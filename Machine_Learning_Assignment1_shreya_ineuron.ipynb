{
 "cells": [
  {
   "cell_type": "markdown",
   "id": "b73eab9f",
   "metadata": {},
   "source": [
    "**1. What does one mean by the term machine learning?**"
   ]
  },
  {
   "cell_type": "markdown",
   "id": "f437ce8e",
   "metadata": {},
   "source": [
    "Machine learning Popularly known as ML is a branch of Artificial Intelligence (AI) that allows software applications to become more accurate at predicting outcomes without being explicitly programmed to do so. Machine learning algorithms use historical data as input to predict new output values."
   ]
  },
  {
   "cell_type": "markdown",
   "id": "461816d4",
   "metadata": {},
   "source": [
    "**2. Can you think of 4 distinct types of issues where it shines?**"
   ]
  },
  {
   "cell_type": "markdown",
   "id": "ca8ad6fe",
   "metadata": {},
   "source": [
    "a. **Image Recognition** - The image recognition is one of the most common uses of machine learning applications. It is used to identify objects, persons, places, digital images, etc. Face recognition is also an outcome of Machine Learning.\n",
    "<br>\n",
    "b. **Predictions** - It predicts the traffic conditions such as whether traffic is cleared, slow-moving, or heavily congested with the help of two ways: Real Time location of the vehicle form Google Map app and sensors Average time has taken on past days at the same time. \n",
    "<br>\n",
    "c. **Speech Recognition** - While using Google, we get an option of Search by voice, it comes under speech recognition, and it's a popular application of Machine Learning. Speech recognition is a process of converting voice instructions into text, and it is also known as Speech to text, or Computer based speech recognition At present, machine learning algorithms are widely used by various applications of speech recognition. Google assistant, Siri, Cortana, and Alexa are using speech recognition technology to follow the voice instructions.\n",
    "<br>\n",
    "d. **Product recommendations** - Machine learning is widely used by various e-commerce and entertainment companies such as Amazon, Netflix, etc., for product recommendation to the user."
   ]
  },
  {
   "cell_type": "markdown",
   "id": "dd120959",
   "metadata": {},
   "source": [
    "**3. What is a labeled training set, and how does it work?**"
   ]
  },
  {
   "cell_type": "markdown",
   "id": "b5bad54d",
   "metadata": {},
   "source": [
    "We split up the data containing known response variable values into two pieces. The training set is then used to train the algorithm, and then we use the trained model on the test set to predict the response variable values that are already known."
   ]
  },
  {
   "cell_type": "markdown",
   "id": "b89f9dea",
   "metadata": {},
   "source": [
    "**4. What are the two most important tasks that are supervised ?**\n"
   ]
  },
  {
   "cell_type": "markdown",
   "id": "1e2a0df3",
   "metadata": {},
   "source": [
    "The two most common supervised learning tasks are Regression and Classification."
   ]
  },
  {
   "cell_type": "markdown",
   "id": "add69210",
   "metadata": {},
   "source": [
    "**5. Can you think of four examples of unsupervised tasks ?**"
   ]
  },
  {
   "cell_type": "markdown",
   "id": "0bca34ad",
   "metadata": {},
   "source": [
    "Four common Unsupervised Tasks included Clustering, Visualization, Dimensionality Reduction, and Association Rule Learning."
   ]
  },
  {
   "cell_type": "markdown",
   "id": "65cf656d",
   "metadata": {},
   "source": [
    "**6. State the machine learning model that would be best to make a robot walk through various unfamiliar terrains ?**"
   ]
  },
  {
   "cell_type": "markdown",
   "id": "bab2ba36",
   "metadata": {},
   "source": [
    "The best Machine Learning algorithm to allow a Robot to walk in unfamiliar terrains is Reinforced Learning, where the robot can learn from response of the terrain to optimize itself."
   ]
  },
  {
   "cell_type": "markdown",
   "id": "f763d72a",
   "metadata": {},
   "source": [
    "**7. Which algorithm will you use to divide your customers into different groups ?**"
   ]
  },
  {
   "cell_type": "markdown",
   "id": "cc0e58a5",
   "metadata": {},
   "source": [
    "The Best Algorithm to Segment Customers into different groups is either Supervised Learning (if the groups have known labels) or Unsupervised Learning (if there are no group labels)."
   ]
  },
  {
   "cell_type": "markdown",
   "id": "9b2e67c9",
   "metadata": {},
   "source": [
    "**8. Will you consider the problem of spam detection to be a supervised or unsupervised learning problem ?**"
   ]
  },
  {
   "cell_type": "markdown",
   "id": "f4aba851",
   "metadata": {},
   "source": [
    "Spam detection is a Supervised Machine Learning problem because the labels are known."
   ]
  },
  {
   "cell_type": "markdown",
   "id": "c6dad2c1",
   "metadata": {},
   "source": [
    "**9. What is the concept of an online learning system ?**"
   ]
  },
  {
   "cell_type": "markdown",
   "id": "23feb03a",
   "metadata": {},
   "source": [
    "Online learning system is a learning system in which the machine learns continously, as data is given in small streams continuously."
   ]
  },
  {
   "cell_type": "markdown",
   "id": "1d6db281",
   "metadata": {},
   "source": [
    "**10. What is out-of-core learning, and how does it differ from core learning ?**"
   ]
  },
  {
   "cell_type": "markdown",
   "id": "2fb91777",
   "metadata": {},
   "source": [
    "Out-of-core learning system is a system that can handle data that cannot fit into your computer memory. It uses online learning system to feed data in small bits."
   ]
  },
  {
   "cell_type": "markdown",
   "id": "066075bc",
   "metadata": {},
   "source": [
    "**11. What kind of learning algorithm makes predictions using a similarity measure ?**"
   ]
  },
  {
   "cell_type": "markdown",
   "id": "2afc164a",
   "metadata": {},
   "source": [
    "Learning algorithm that relies on a similarity measure to make predictions is Instance Based Algorithm."
   ]
  },
  {
   "cell_type": "markdown",
   "id": "65de3baf",
   "metadata": {},
   "source": [
    "**12. What's the difference between a model parameter and a hyperparameter in a learning algorithm ?**"
   ]
  },
  {
   "cell_type": "markdown",
   "id": "96b261b3",
   "metadata": {},
   "source": [
    "Model parameter determines how a model will predict given a new instance. Model usually has more than one parameter (i.e. slope of a linear model). Hyperparameter is a parameter for the learning algorithm, not of a model."
   ]
  },
  {
   "cell_type": "markdown",
   "id": "13d85834",
   "metadata": {},
   "source": [
    "**13. What are the criteria that model-based learning algorithms look for? What is the most popular method they use to achieve success? What method do they use to make predictions ?**"
   ]
  },
  {
   "cell_type": "markdown",
   "id": "46eeb940",
   "metadata": {},
   "source": [
    "Model based learning algorithm search for the optimal value of parameters in a model that will give the best results for the new instances. We often use a cost function or similar to determine what the parameter value has to be in order to minimize the function. The model makes prediction by using the value of the new instance and the parameters in its function."
   ]
  },
  {
   "cell_type": "markdown",
   "id": "fe9711a9",
   "metadata": {},
   "source": [
    "**14. Can you name four of the most important Machine Learning challenges ?**"
   ]
  },
  {
   "cell_type": "markdown",
   "id": "6903b5f3",
   "metadata": {},
   "source": [
    "Four main challenges in Machine Learning include the following:\n",
    "<br>\n",
    "Overfitting the Data (using a model too complicated <br>\n",
    "Underfitting the data (using a simple model) <br>\n",
    "Lacking in Data <br>\n",
    "Non Representative Data. <br>"
   ]
  },
  {
   "cell_type": "markdown",
   "id": "74ee3be3",
   "metadata": {},
   "source": [
    "**15. What happens if the model performs well on the training data but fails to generalize the results to new situations? Can you think of three different options ?**"
   ]
  },
  {
   "cell_type": "markdown",
   "id": "b2a6fa3b",
   "metadata": {},
   "source": [
    " If the model performs poorly to new instances, then it has overfitted on the training data. To solve this, we can do any of the following three: \n",
    " <br>\n",
    "Get more data <br>\n",
    "Implement a simpler model <br>\n",
    "Eliminate outliers or noise from the existing data set."
   ]
  },
  {
   "cell_type": "markdown",
   "id": "4d326d5b",
   "metadata": {},
   "source": [
    "**16. What exactly is a test set, and why would you need one ?**"
   ]
  },
  {
   "cell_type": "markdown",
   "id": "0ba7e42f",
   "metadata": {},
   "source": [
    " Test set is a set to test your model (fit using training data) to see how it performs.Test set is necessary to determine how good (or bad) a model performs."
   ]
  },
  {
   "cell_type": "markdown",
   "id": "935af328",
   "metadata": {},
   "source": [
    "**17. What is a validation set's purpose ?**"
   ]
  },
  {
   "cell_type": "markdown",
   "id": "1fad6326",
   "metadata": {},
   "source": [
    "Validation set is a set used to compare between different training models."
   ]
  },
  {
   "cell_type": "markdown",
   "id": "1ee21df1",
   "metadata": {},
   "source": [
    "**18. What precisely is the train-dev kit, when will you need it, how do you put it to use ?**"
   ]
  },
  {
   "cell_type": "markdown",
   "id": "b9a019a5",
   "metadata": {},
   "source": [
    "Cross-validation is a tool to compare models without needing a separate validation set. It is preferred over validation set because we can save from breaking of part of the training set to create a validation set, as having more data is valuable regardless."
   ]
  },
  {
   "cell_type": "markdown",
   "id": "ab172d48",
   "metadata": {},
   "source": [
    "**19. What could go wrong if you use the test set to tune hyperparameters ?**"
   ]
  },
  {
   "cell_type": "markdown",
   "id": "af7ba75f",
   "metadata": {},
   "source": [
    "If you tune hyperparameters using the test sets, then it may not perform well on the out-of-sample data because the model is tuned just for that specific set."
   ]
  }
 ],
 "metadata": {
  "kernelspec": {
   "display_name": "Python 3 (ipykernel)",
   "language": "python",
   "name": "python3"
  },
  "language_info": {
   "codemirror_mode": {
    "name": "ipython",
    "version": 3
   },
   "file_extension": ".py",
   "mimetype": "text/x-python",
   "name": "python",
   "nbconvert_exporter": "python",
   "pygments_lexer": "ipython3",
   "version": "3.9.7"
  }
 },
 "nbformat": 4,
 "nbformat_minor": 5
}
